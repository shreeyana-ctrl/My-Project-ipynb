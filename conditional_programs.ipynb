{
 "cells": [
  {
   "cell_type": "markdown",
   "metadata": {},
   "source": [
    "1.Write a program in python to check whether the given number is Even or Odd."
   ]
  },
  {
   "cell_type": "code",
   "execution_count": 5,
   "metadata": {},
   "outputs": [
    {
     "name": "stdout",
     "output_type": "stream",
     "text": [
      "12 is an even number.\n"
     ]
    }
   ],
   "source": [
    "# Input number from the user\n",
    "num = int(input(\"Enter a number:\"))# Check if the number is even or odd\n",
    "if num % 2 == 0:\n",
    "    print(f\"{num} is an even number.\")\n",
    "else:\n",
    "    print(f\"{num} is an odd number.\")"
   ]
  },
  {
   "cell_type": "markdown",
   "metadata": {},
   "source": [
    "2.Write a Python program that checks if a number is positive, negative , or zero:"
   ]
  },
  {
   "cell_type": "code",
   "execution_count": 6,
   "metadata": {},
   "outputs": [
    {
     "name": "stdout",
     "output_type": "stream",
     "text": [
      "The number is zero.\n"
     ]
    }
   ],
   "source": [
    "# Input number from the user \n",
    "num = float(input(\"Enter a number: \"))\n",
    "# Conditiona; statements to check the number\n",
    "if num > 0:\n",
    "    print(\"The number is positive.\")\n",
    "elif num < 0:\n",
    "    print(\"The number is negative.\")\n",
    "else:\n",
    "    print(\"The number is zero.\")"
   ]
  },
  {
   "cell_type": "markdown",
   "metadata": {},
   "source": [
    "3.Write a program that ask user to enter their age and checks if they are eligible to vote (18 years or older)."
   ]
  },
  {
   "cell_type": "code",
   "execution_count": 7,
   "metadata": {},
   "outputs": [
    {
     "name": "stdout",
     "output_type": "stream",
     "text": [
      "You are eligible to vote!\n"
     ]
    }
   ],
   "source": [
    "# Ask the user to input their age\n",
    "age = int(input(\"Please enter your age: \"))\n",
    "\n",
    "# Check if the user is eligible to vote\n",
    "if age >= 18:\n",
    "    print(\"You are eligible to vote!\")\n",
    "else:\n",
    "    print(\"You are not eligible to vote yet.\")\n"
   ]
  },
  {
   "cell_type": "markdown",
   "metadata": {},
   "source": [
    "4.Write a program that takes the lengths of three sides of a triangle as input and determines if the triangle is:\n",
    " - Equilateral (all sides are equal)\n",
    " - Isosceles (two sides are equal)\n",
    " - Scalene (all sides are different)"
   ]
  },
  {
   "cell_type": "code",
   "execution_count": 13,
   "metadata": {},
   "outputs": [
    {
     "name": "stdout",
     "output_type": "stream",
     "text": [
      "Input lengths of the triangle sides: \n",
      "Scalene triangle\n"
     ]
    }
   ],
   "source": [
    "\n",
    "\n",
    "# Display a message prompting the user to input lengths of the sides of a triangle\n",
    "print(\"Input lengths of the triangle sides: \")\n",
    "\n",
    "# Request input from the user for the length of side 'x' and convert it to an integer\n",
    "x = int(input(\"x: \"))\n",
    "\n",
    "# Request input from the user for the length of side 'y' and convert it to an integer\n",
    "y = int(input(\"y: \"))\n",
    "\n",
    "# Request input from the user for the length of side 'z' and convert it to an integer\n",
    "z = int(input(\"z: \"))\n",
    "\n",
    "# Check conditions to determine the type of triangle based on the lengths of its sides\n",
    "\n",
    "# If all sides are equal, display that it's an equilateral triangle\n",
    "if x == y == z:\n",
    "    print(\"Equilateral triangle\")\n",
    "# If at least two sides are equal, display that it's an isosceles triangle\n",
    "elif x == y or y == z or z == x:\n",
    "    print(\"Isosceles triangle\")\n",
    "# If all sides have different lengths, display that it's a scalene triangle\n",
    "else:\n",
    "    print(\"Scalene triangle\") \n"
   ]
  },
  {
   "cell_type": "markdown",
   "metadata": {},
   "source": [
    "5.Write a program that ask the user to enter a password and checks if it matches a predefined password (e.g., \"Python123\")."
   ]
  },
  {
   "cell_type": "code",
   "execution_count": 14,
   "metadata": {},
   "outputs": [
    {
     "name": "stdout",
     "output_type": "stream",
     "text": [
      "Access denied! Incorrect password.\n"
     ]
    }
   ],
   "source": [
    "# Predefined password\n",
    "predefined_password = \"Python123\"\n",
    "\n",
    "# Ask the user to enter a password\n",
    "user_password = input(\"Enter the password: \")\n",
    "\n",
    "# Check if the entered password matches the predefined password\n",
    "if user_password == predefined_password:\n",
    "    print(\"Access granted!\")\n",
    "else:\n",
    "    print(\"Access denied! Incorrect password.\")\n"
   ]
  },
  {
   "cell_type": "markdown",
   "metadata": {},
   "source": [
    "6. Multiplicatiuon Table: Write a Python program to pront the multiplication table of a given number using a for loop.\n",
    "Example:\n",
    "- Input : 5\n",
    "- Output : 5, 10, 15, ...,50"
   ]
  },
  {
   "cell_type": "code",
   "execution_count": 15,
   "metadata": {},
   "outputs": [
    {
     "name": "stdout",
     "output_type": "stream",
     "text": [
      "Multiplication table of 5:\n",
      "5 x 1 = 5\n",
      "5 x 2 = 10\n",
      "5 x 3 = 15\n",
      "5 x 4 = 20\n",
      "5 x 5 = 25\n",
      "5 x 6 = 30\n",
      "5 x 7 = 35\n",
      "5 x 8 = 40\n",
      "5 x 9 = 45\n",
      "5 x 10 = 50\n"
     ]
    }
   ],
   "source": [
    "# Prompt the user to input a number\n",
    "number = int(input(\"Enter a number to print its multiplication table: \"))\n",
    "\n",
    "# Use a for loop to generate and display the multiplication table\n",
    "print(f\"Multiplication table of {number}:\")\n",
    "for i in range(1, 11):\n",
    "    print(f\"{number} x {i} = {number * i}\")\n"
   ]
  },
  {
   "cell_type": "markdown",
   "metadata": {},
   "source": [
    "7.Count Vowels: Write a program to count and display the number of vowels in a given string."
   ]
  },
  {
   "cell_type": "code",
   "execution_count": 16,
   "metadata": {},
   "outputs": [
    {
     "name": "stdout",
     "output_type": "stream",
     "text": [
      "The number of vowels in the string is: 0\n"
     ]
    }
   ],
   "source": [
    "# Prompt the user to enter a string\n",
    "text = input(\"Enter a string: \")\n",
    "\n",
    "# Define a set of vowels\n",
    "vowels = \"aeiouAEIOU\"\n",
    "\n",
    "# Initialize a counter for vowels\n",
    "vowel_count = 0\n",
    "\n",
    "# Iterate through each character in the string\n",
    "for char in text:\n",
    "    if char in vowels:\n",
    "        vowel_count += 1\n",
    "\n",
    "# Display the result\n",
    "print(f\"The number of vowels in the string is: {vowel_count}\")\n"
   ]
  },
  {
   "cell_type": "markdown",
   "metadata": {},
   "source": [
    "8.Sum of Even Numbers Create a program to find the sum of all even numbers in a list using a for loop.\n",
    "Example:\n",
    "- Input:[2,5,8,3]\n",
    "- Output: 10"
   ]
  },
  {
   "cell_type": "code",
   "execution_count": 17,
   "metadata": {},
   "outputs": [
    {
     "name": "stdout",
     "output_type": "stream",
     "text": [
      "The sum of all even numbers in the list is: 10\n"
     ]
    }
   ],
   "source": [
    "# Input: List of numbers\n",
    "numbers = [2, 5, 8, 3]\n",
    "\n",
    "# Initialize a variable to store the sum of even numbers\n",
    "even_sum = 0\n",
    "\n",
    "# Iterate through the list and add even numbers to the sum\n",
    "for num in numbers:\n",
    "    if num % 2 == 0:\n",
    "        even_sum += num\n",
    "\n",
    "# Display the result\n",
    "print(f\"The sum of all even numbers in the list is: {even_sum}\")\n"
   ]
  },
  {
   "cell_type": "markdown",
   "metadata": {},
   "source": [
    "9.Create a program to find the largest and smallest numbers in a list using a for loop.\n",
    "Example:\n",
    "- Input = [10, 20, 5, 8], Output = Largest =20, Smallest = 5"
   ]
  },
  {
   "cell_type": "code",
   "execution_count": 18,
   "metadata": {},
   "outputs": [
    {
     "name": "stdout",
     "output_type": "stream",
     "text": [
      "Largest = 20, Smallest = 5\n"
     ]
    }
   ],
   "source": [
    "# Input: List of numbers\n",
    "numbers = [10, 20, 5, 8]\n",
    "\n",
    "# Initialize variables for largest and smallest numbers\n",
    "largest = numbers[0]\n",
    "smallest = numbers[0]\n",
    "\n",
    "# Iterate through the list\n",
    "for num in numbers:\n",
    "    if num > largest:\n",
    "        largest = num\n",
    "    if num < smallest:\n",
    "        smallest = num\n",
    "\n",
    "# Display the results\n",
    "print(f\"Largest = {largest}, Smallest = {smallest}\")\n",
    "\n"
   ]
  },
  {
   "cell_type": "markdown",
   "metadata": {},
   "source": [
    "10.Write a program to calculate the sum of digits of a given number using a for loop.\n",
    "Example: Input = 1234, Output = 10"
   ]
  },
  {
   "cell_type": "code",
   "execution_count": 19,
   "metadata": {},
   "outputs": [
    {
     "name": "stdout",
     "output_type": "stream",
     "text": [
      "The sum of the digits is: 1\n"
     ]
    }
   ],
   "source": [
    "# Prompt the user to enter a number\n",
    "number = int(input(\"Enter a number: \"))\n",
    "\n",
    "# Convert the number to a string to access each digit\n",
    "number_str = str(abs(number))  # Use abs() to handle negative numbers\n",
    "\n",
    "# Initialize a variable to store the sum of digits\n",
    "digit_sum = 0\n",
    "\n",
    "# Iterate through each character in the string\n",
    "for digit in number_str:\n",
    "    digit_sum += int(digit)\n",
    "\n",
    "# Display the result\n",
    "print(f\"The sum of the digits is: {digit_sum}\")\n"
   ]
  },
  {
   "cell_type": "markdown",
   "metadata": {},
   "source": [
    "11.Write a program to reverse a given string using a for loop.\n",
    "Example: Input = \"Python\", Output = \"nohtyP\""
   ]
  },
  {
   "cell_type": "code",
   "execution_count": 20,
   "metadata": {},
   "outputs": [
    {
     "name": "stdout",
     "output_type": "stream",
     "text": [
      "The reversed string is: nohtyp\n"
     ]
    }
   ],
   "source": [
    "# Prompt the user to enter a string\n",
    "input_string = input(\"Enter a string: \")\n",
    "\n",
    "# Initialize an empty string to store the reversed string\n",
    "reversed_string = \"\"\n",
    "\n",
    "# Iterate through the string in reverse order\n",
    "for char in input_string:\n",
    "    reversed_string = char + reversed_string\n",
    "\n",
    "# Display the result\n",
    "print(f\"The reversed string is: {reversed_string}\")\n"
   ]
  },
  {
   "cell_type": "markdown",
   "metadata": {},
   "source": [
    "Functions\n",
    "1. Factorial Function: Write a function factorial(n) that returns the factorial of a number using a for loop."
   ]
  },
  {
   "cell_type": "markdown",
   "metadata": {},
   "source": [
    "2. Prime Check Function: Create a function is_prime(n) to check whether a number is prime.\n",
    "Example:\n",
    "-Input:7\n",
    "-Output:True"
   ]
  },
  {
   "cell_type": "code",
   "execution_count": 22,
   "metadata": {},
   "outputs": [
    {
     "name": "stdout",
     "output_type": "stream",
     "text": [
      "Is 7 prime? True\n"
     ]
    }
   ],
   "source": [
    "# Function to check if a number is prime\n",
    "def is_prime(n):\n",
    "    # Handle edge cases for numbers less than 2\n",
    "    if n <= 1:\n",
    "        return False\n",
    "    \n",
    "    # Check if the number is divisible by any number from 2 to the square root of n\n",
    "    for i in range(2, int(n ** 0.5) + 1):\n",
    "        if n % i == 0:\n",
    "            return False  # If divisible, it's not a prime number\n",
    "    \n",
    "    return True  # If not divisible by any number, it's a prime number\n",
    "\n",
    "# Test the function\n",
    "number = int(input(\"Enter a number to check if it is prime: \"))\n",
    "\n",
    "print(f\"Is {number} prime? {is_prime(number)}\")\n"
   ]
  },
  {
   "cell_type": "markdown",
   "metadata": {},
   "source": [
    "3.Find Maximum in List:Write a function find_max(1st) to find and return the maximum value in a list.\n",
    "Example:\n",
    "- Input:[1,3,7,0]\n",
    "- Output: 7"
   ]
  },
  {
   "cell_type": "code",
   "execution_count": 23,
   "metadata": {},
   "outputs": [
    {
     "name": "stdout",
     "output_type": "stream",
     "text": [
      "The maximum value in the list is: 7\n"
     ]
    }
   ],
   "source": [
    "# Function to find the maximum value in a list\n",
    "def find_max(lst):\n",
    "    # Initialize the maximum value as the first element in the list\n",
    "    max_value = lst[0]\n",
    "    \n",
    "    # Iterate through the list to find the maximum value\n",
    "    for num in lst:\n",
    "        if num > max_value:\n",
    "            max_value = num  # Update max_value if a larger number is found\n",
    "    \n",
    "    return max_value\n",
    "\n",
    "# Test the function\n",
    "numbers = [1, 3, 7, 0]\n",
    "print(f\"The maximum value in the list is: {find_max(numbers)}\")\n"
   ]
  },
  {
   "cell_type": "markdown",
   "metadata": {},
   "source": [
    "4. Write a function palindrome_check(string) that returns True if the given string is a palindrome, otherwise False.\n",
    "Example: Input = \"radar\", Output = True"
   ]
  },
  {
   "cell_type": "code",
   "execution_count": 24,
   "metadata": {},
   "outputs": [
    {
     "name": "stdout",
     "output_type": "stream",
     "text": [
      "Is the string 'string' a palindrome? False\n"
     ]
    }
   ],
   "source": [
    "# Function to check if a string is a palindrome\n",
    "def palindrome_check(string):\n",
    "    # Convert the string to lowercase to handle case-insensitivity\n",
    "    string = string.lower()\n",
    "    \n",
    "    # Check if the string is equal to its reverse\n",
    "    if string == string[::-1]:\n",
    "        return True\n",
    "    else:\n",
    "        return False\n",
    "\n",
    "# Test the function\n",
    "input_string = input(\"Enter a string to check if it's a palindrome: \")\n",
    "print(f\"Is the string '{input_string}' a palindrome? {palindrome_check(input_string)}\")\n"
   ]
  },
  {
   "cell_type": "markdown",
   "metadata": {},
   "source": [
    "5. Write a function sum_of_squares(n) that returns the sum of squares of the first n natural numbers."
   ]
  },
  {
   "cell_type": "code",
   "execution_count": 26,
   "metadata": {},
   "outputs": [
    {
     "name": "stdout",
     "output_type": "stream",
     "text": [
      "The sum of squares of the first 4 natural numbers is: 30\n"
     ]
    }
   ],
   "source": [
    "# Function to calculate the sum of squares of the first n natural numbers\n",
    "def sum_of_squares(n):\n",
    "    # Initialize the sum to 0\n",
    "    total_sum = 0\n",
    "    \n",
    "    # Iterate through numbers from 1 to n and add their squares\n",
    "    for i in range(1, n + 1):\n",
    "        total_sum += i ** 2  # Add the square of the current number\n",
    "    \n",
    "    return total_sum\n",
    "\n",
    "# Test the function\n",
    "number = int(input(\"Enter a number to calculate the sum of squares: \"))\n",
    "print(f\"The sum of squares of the first {number} natural numbers is: {sum_of_squares(number)}\")\n"
   ]
  },
  {
   "cell_type": "markdown",
   "metadata": {},
   "source": [
    "6. Write a function sum_of_squares(n) that returns the sum of squares of the first n natural numbers.\n",
    "Example: Input = 3, Output = 1^2 + 2^2 + 3^2 = 14"
   ]
  },
  {
   "cell_type": "code",
   "execution_count": 27,
   "metadata": {},
   "outputs": [
    {
     "name": "stdout",
     "output_type": "stream",
     "text": [
      "The sum of squares of the first 3 natural numbers is: 1^2 + 2^2 + 3^2 = 14\n"
     ]
    }
   ],
   "source": [
    "# Function to calculate the sum of squares of the first n natural numbers\n",
    "def sum_of_squares(n):\n",
    "    # Initialize the sum to 0\n",
    "    total_sum = 0\n",
    "    \n",
    "    # List to store the squares for displaying in the output format\n",
    "    squares_list = []\n",
    "    \n",
    "    # Iterate through numbers from 1 to n and add their squares\n",
    "    for i in range(1, n + 1):\n",
    "        total_sum += i ** 2  # Add the square of the current number\n",
    "        squares_list.append(f\"{i}^2\")  # Add the term in \"i^2\" format\n",
    "    \n",
    "    # Create the output string\n",
    "    squares_str = \" + \".join(squares_list)\n",
    "    \n",
    "    # Return the sum of squares and the formatted string\n",
    "    return f\"{squares_str} = {total_sum}\"\n",
    "\n",
    "# Test the function\n",
    "number = int(input(\"Enter a number to calculate the sum of squares: \"))\n",
    "print(f\"The sum of squares of the first {number} natural numbers is: {sum_of_squares(number)}\")\n"
   ]
  },
  {
   "cell_type": "markdown",
   "metadata": {},
   "source": [
    "Classes\n",
    "1. Rectangle Class: Define a class Rectangle with:\n",
    "-Two attributes : length and width.\n",
    "-A method area() to calculate the area.\n",
    "- A methos perimeter() to calculate the perimeter."
   ]
  },
  {
   "cell_type": "code",
   "execution_count": 28,
   "metadata": {},
   "outputs": [
    {
     "name": "stdout",
     "output_type": "stream",
     "text": [
      "The area of the rectangle is: 15.0\n",
      "The perimeter of the rectangle is: 16.0\n"
     ]
    }
   ],
   "source": [
    "# Define the Rectangle class\n",
    "class Rectangle:\n",
    "    def __init__(self, length, width):\n",
    "        # Initialize the length and width attributes\n",
    "        self.length = length\n",
    "        self.width = width\n",
    "    \n",
    "    # Method to calculate the area of the rectangle\n",
    "    def area(self):\n",
    "        return self.length * self.width\n",
    "    \n",
    "    # Method to calculate the perimeter of the rectangle\n",
    "    def perimeter(self):\n",
    "        return 2 * (self.length + self.width)\n",
    "\n",
    "# Create an instance of the Rectangle class\n",
    "length = float(input(\"Enter the length of the rectangle: \"))\n",
    "width = float(input(\"Enter the width of the rectangle: \"))\n",
    "\n",
    "rectangle = Rectangle(length, width)\n",
    "\n",
    "# Display the area and perimeter of the rectangle\n",
    "print(f\"The area of the rectangle is: {rectangle.area()}\")\n",
    "print(f\"The perimeter of the rectangle is: {rectangle.perimeter()}\")\n"
   ]
  },
  {
   "cell_type": "markdown",
   "metadata": {},
   "source": [
    "2. Student Class: Create a class Student with;\n",
    "- Attributes: name, roll_number, and marks.\n",
    "- A method display_details() to print the student's details.\n",
    "- A method is_passed() that returns True if marks_>40, else False."
   ]
  },
  {
   "cell_type": "code",
   "execution_count": 30,
   "metadata": {},
   "outputs": [
    {
     "name": "stdout",
     "output_type": "stream",
     "text": [
      "Name: shreeyana\n",
      "Roll Number: 101\n",
      "Marks: 45.0\n",
      "Status: Passed\n"
     ]
    }
   ],
   "source": [
    "# Define the Student class\n",
    "class Student:\n",
    "    def __init__(self, name, roll_number, marks):\n",
    "        # Initialize the attributes\n",
    "        self.name = name\n",
    "        self.roll_number = roll_number\n",
    "        self.marks = marks\n",
    "    \n",
    "    # Method to display the student's details\n",
    "    def display_details(self):\n",
    "        print(f\"Name: {self.name}\")\n",
    "        print(f\"Roll Number: {self.roll_number}\")\n",
    "        print(f\"Marks: {self.marks}\")\n",
    "    \n",
    "    # Method to check if the student has passed\n",
    "    def is_passed(self):\n",
    "        if self.marks > 40:\n",
    "            return True\n",
    "        else:\n",
    "            return False\n",
    "\n",
    "# Create an instance of the Student class\n",
    "name = input(\"Enter the student's name: Shreeyana\")\n",
    "roll_number = input(\"Enter the student's roll number: 101\")\n",
    "marks = float(input(\"Enter the student's marks: 45\"))\n",
    "\n",
    "student = Student(name, roll_number, marks)\n",
    "\n",
    "# Display the student's details\n",
    "student.display_details()\n",
    "\n",
    "# Check if the student has passed\n",
    "if student.is_passed():\n",
    "    print(\"Status: Passed\")\n",
    "else:\n",
    "    print(\"Status: Failed\")\n"
   ]
  },
  {
   "cell_type": "markdown",
   "metadata": {},
   "source": [
    "3. Define a class Circle with:\n",
    "● Attribute: radius.\n",
    "● Methods: area() to calculate the area, circumference() to\n",
    "calculate the circumference."
   ]
  },
  {
   "cell_type": "code",
   "execution_count": 31,
   "metadata": {},
   "outputs": [
    {
     "name": "stdout",
     "output_type": "stream",
     "text": [
      "The area of the circle is: 78.54\n",
      "The circumference of the circle is: 31.42\n"
     ]
    }
   ],
   "source": [
    "import math\n",
    "\n",
    "# Define the Circle class\n",
    "class Circle:\n",
    "    def __init__(self, radius):\n",
    "        # Initialize the radius attribute\n",
    "        self.radius = radius\n",
    "    \n",
    "    # Method to calculate the area of the circle\n",
    "    def area(self):\n",
    "        return math.pi * (self.radius ** 2)\n",
    "    \n",
    "    # Method to calculate the circumference of the circle\n",
    "    def circumference(self):\n",
    "        return 2 * math.pi * self.radius\n",
    "\n",
    "# Create an instance of the Circle class\n",
    "radius = float(input(\"Enter the radius of the circle: \"))\n",
    "\n",
    "circle = Circle(radius)\n",
    "\n",
    "# Display the area and circumference of the circle\n",
    "print(f\"The area of the circle is: {circle.area():.2f}\")\n",
    "print(f\"The circumference of the circle is: {circle.circumference():.2f}\")\n"
   ]
  },
  {
   "cell_type": "markdown",
   "metadata": {},
   "source": [
    "4. Create a class BankAccount with:\n",
    "● Attributes: account_number, account_holder, balance.\n",
    "● Methods:\n",
    "○ deposit(amount) to add money to the account.\n",
    "\n",
    "○ withdraw(amount) to subtract money (if sufficient\n",
    "balance is available).\n",
    "○ display_balance() to print the current balance."
   ]
  },
  {
   "cell_type": "code",
   "execution_count": 32,
   "metadata": {},
   "outputs": [
    {
     "name": "stdout",
     "output_type": "stream",
     "text": [
      "\n",
      "Choose an action:\n",
      "1. Deposit\n",
      "2. Withdraw\n",
      "3. Display Balance\n",
      "4. Exit\n",
      "Invalid choice. Please choose a valid option.\n",
      "\n",
      "Choose an action:\n",
      "1. Deposit\n",
      "2. Withdraw\n",
      "3. Display Balance\n",
      "4. Exit\n",
      "Invalid choice. Please choose a valid option.\n",
      "\n",
      "Choose an action:\n",
      "1. Deposit\n",
      "2. Withdraw\n",
      "3. Display Balance\n",
      "4. Exit\n",
      "Deposited: $2.0\n",
      "\n",
      "Choose an action:\n",
      "1. Deposit\n",
      "2. Withdraw\n",
      "3. Display Balance\n",
      "4. Exit\n",
      "Current balance: $2.0\n",
      "\n",
      "Choose an action:\n",
      "1. Deposit\n",
      "2. Withdraw\n",
      "3. Display Balance\n",
      "4. Exit\n",
      "Exiting...\n"
     ]
    }
   ],
   "source": [
    "# Define the BankAccount class\n",
    "class BankAccount:\n",
    "    def __init__(self, account_number, account_holder, balance=0):\n",
    "        # Initialize the account attributes\n",
    "        self.account_number = account_number\n",
    "        self.account_holder = account_holder\n",
    "        self.balance = balance\n",
    "    \n",
    "    # Method to deposit money into the account\n",
    "    def deposit(self, amount):\n",
    "        if amount > 0:\n",
    "            self.balance += amount\n",
    "            print(f\"Deposited: ${amount}\")\n",
    "        else:\n",
    "            print(\"Deposit amount must be positive.\")\n",
    "    \n",
    "    # Method to withdraw money from the account\n",
    "    def withdraw(self, amount):\n",
    "        if amount > 0:\n",
    "            if self.balance >= amount:\n",
    "                self.balance -= amount\n",
    "                print(f\"Withdrawn: ${amount}\")\n",
    "            else:\n",
    "                print(\"Insufficient balance.\")\n",
    "        else:\n",
    "            print(\"Withdrawal amount must be positive.\")\n",
    "    \n",
    "    # Method to display the current balance\n",
    "    def display_balance(self):\n",
    "        print(f\"Current balance: ${self.balance}\")\n",
    "\n",
    "# Create an instance of the BankAccount class\n",
    "account_number = input(\"Enter the account number:123456789 \")\n",
    "account_holder = input(\"Enter the account holder's name:Shreeyana Paudel \")\n",
    "\n",
    "# Initialize a BankAccount object with a starting balance of 0\n",
    "account = BankAccount(account_number, account_holder)\n",
    "\n",
    "# Test the methods\n",
    "while True:\n",
    "    print(\"\\nChoose an action:\")\n",
    "    print(\"1. Deposit\")\n",
    "    print(\"2. Withdraw\")\n",
    "    print(\"3. Display Balance\")\n",
    "    print(\"4. Exit\")\n",
    "    \n",
    "    choice = input(\"Enter choice (1/2/3/4): \")\n",
    "    \n",
    "    if choice == '1':\n",
    "        amount = float(input(\"Enter deposit amount: \"))\n",
    "        account.deposit(amount)\n",
    "    \n",
    "    elif choice == '2':\n",
    "        amount = float(input(\"Enter withdrawal amount: \"))\n",
    "        account.withdraw(amount)\n",
    "    \n",
    "    elif choice == '3':\n",
    "        account.display_balance()\n",
    "    \n",
    "    elif choice == '4':\n",
    "        print(\"Exiting...\")\n",
    "        break\n",
    "    \n",
    "    else:\n",
    "        print(\"Invalid choice. Please choose a valid option.\")\n"
   ]
  },
  {
   "cell_type": "markdown",
   "metadata": {},
   "source": [
    "5. A class Book with:\n",
    "● Attributes: title, author, price.\n",
    "● Methods:\n",
    "○ apply_discount(discount) to reduce the price by a\n",
    "given percentage.\n",
    "○ display_details() to print the book details."
   ]
  },
  {
   "cell_type": "code",
   "execution_count": 3,
   "metadata": {},
   "outputs": [
    {
     "name": "stdout",
     "output_type": "stream",
     "text": [
      "The discount is given of Rs.60\n",
      "The name of the book is Romeo Juliet.\n",
      "Romeo Juliet is written by William Shakespeare.\n",
      "The price of book after discount is 540.\n"
     ]
    }
   ],
   "source": [
    "class Book:\n",
    "    def __init__(self,title,author,price):\n",
    "        self.title=title\n",
    "        self.author=author\n",
    "        self.price=price\n",
    "    def apply_discount(self):\n",
    "        discount= int(input(\"Enter the discount amount given\"))\n",
    "        self.price-=discount\n",
    "        return f\"The discount is given of Rs.{discount}\"\n",
    "    def display_details(self):\n",
    "        return(f\"The name of the book is {self.title}.\\n{self.title} is written by {self.author}.\\nThe price of book after discount is {self.price}.\")\n",
    "b1= Book(\"Romeo Juliet\" ,\"William Shakespeare\",600)\n",
    "print(b1.apply_discount())\n",
    "print(b1.display_details())"
   ]
  },
  {
   "cell_type": "markdown",
   "metadata": {},
   "source": [
    "6. Create a class Calculator with:\n",
    "○ A method add(a, b) to add two numbers.\n",
    "○ A method subtract(a, b) to subtract two numbers.\n",
    "○ A method multiply(a, b) to multiply two numbers.\n",
    "○ A method divide(a, b) to divide two numbers (handle division\n",
    "by zero gracefully)."
   ]
  },
  {
   "cell_type": "code",
   "execution_count": null,
   "metadata": {},
   "outputs": [],
   "source": [
    "class Calculator:\n",
    "    def __init__(self,a,b):\n",
    "        self.a=a\n",
    "        self.b=b\n",
    "    def add(self):\n",
    "        return(self.a+self.b)\n",
    "    def subtract(self):\n",
    "        if self.a>self.b:\n",
    "            return(self.a-self.b)\n",
    "        else:\n",
    "            return(self.b-self.a)\n",
    "    def multiply()"
   ]
  },
  {
   "cell_type": "markdown",
   "metadata": {},
   "source": [
    "7. Write a class Person with:\n",
    "\n",
    "○ Attributes: name, age, gender.\n",
    "○ Method introduce() to print a message like: \"Hello, my name\n",
    "is [name], I am [age] years old, and I am a [gender].\"\n",
    "○ Create a subclass Employee that adds:\n",
    "■ Attribute: job_title.\n",
    "■ Override introduce() to include the job title."
   ]
  },
  {
   "cell_type": "code",
   "execution_count": 37,
   "metadata": {},
   "outputs": [
    {
     "name": "stdout",
     "output_type": "stream",
     "text": [
      "Hello, my name is Alice, I am 30 years old, and I am a female.\n",
      "Hello, my name is Bob, I am 35 years old, I am a male, and I work as a Software Engineer.\n"
     ]
    }
   ],
   "source": [
    "# Define the Person class\n",
    "class Person:\n",
    "    def __init__(self, name, age, gender):\n",
    "        # Initialize the attributes for Person\n",
    "        self.name = name\n",
    "        self.age = age\n",
    "        self.gender = gender\n",
    "    \n",
    "    # Method to introduce the person\n",
    "    def introduce(self):\n",
    "        print(f\"Hello, my name is {self.name}, I am {self.age} years old, and I am a {self.gender}.\")\n",
    "\n",
    "# Define the Employee subclass that inherits from Person\n",
    "class Employee(Person):\n",
    "    def __init__(self, name, age, gender, job_title):\n",
    "        # Initialize the attributes for Employee\n",
    "        super().__init__(name, age, gender)\n",
    "        self.job_title = job_title\n",
    "    \n",
    "    # Override the introduce method to include the job title\n",
    "    def introduce(self):\n",
    "        print(f\"Hello, my name is {self.name}, I am {self.age} years old, I am a {self.gender}, and I work as a {self.job_title}.\")\n",
    "\n",
    "# Create an instance of the Person class\n",
    "person = Person(\"Alice\", 30, \"female\")\n",
    "person.introduce()  # Call the introduce method for Person\n",
    "\n",
    "# Create an instance of the Employee class\n",
    "employee = Employee(\"Bob\", 35, \"male\", \"Software Engineer\")\n",
    "employee.introduce()  # Call the overridden introduce method for Employee\n"
   ]
  },
  {
   "cell_type": "markdown",
   "metadata": {},
   "source": [
    "File Handling\n",
    "1. File Creation and Writing: Write a Python script to:\n",
    "○ Create a file named data.txt.\n",
    "○ Write the numbers from 1 to 10 (each on a new line) to the\n",
    "file.\n",
    "○ Read the file and print its contents."
   ]
  },
  {
   "cell_type": "code",
   "execution_count": 40,
   "metadata": {},
   "outputs": [
    {
     "name": "stdout",
     "output_type": "stream",
     "text": [
      "Numbers 1 to 10 have been written to data.txt.\n",
      "\n",
      "Contents of the file:\n",
      "1\n",
      "2\n",
      "3\n",
      "4\n",
      "5\n",
      "6\n",
      "7\n",
      "8\n",
      "9\n",
      "10\n",
      "\n"
     ]
    }
   ],
   "source": [
    "# File creation and writing\n",
    "filename = \"data.txt\"\n",
    "\n",
    "# Create and write numbers from 1 to 10 to the file\n",
    "with open(filename, \"w\") as file:\n",
    "    for number in range(1, 11):\n",
    "        file.write(f\"{number}\\n\")\n",
    "\n",
    "print(f\"Numbers 1 to 10 have been written to {filename}.\")\n",
    "\n",
    "# Reading and printing the file contents\n",
    "print(\"\\nContents of the file:\")\n",
    "with open(filename, \"r\") as file:\n",
    "    contents = file.read()\n",
    "    print(contents)\n"
   ]
  },
  {
   "cell_type": "markdown",
   "metadata": {},
   "source": [
    "2. Word Count in File: Write a program that reads a file named\n",
    "sample.txt, counts the number of words in it, and prints the\n",
    "result."
   ]
  },
  {
   "cell_type": "code",
   "execution_count": 41,
   "metadata": {},
   "outputs": [
    {
     "name": "stdout",
     "output_type": "stream",
     "text": [
      "Error: The file 'sample.txt' does not exist.\n"
     ]
    }
   ],
   "source": [
    "# File name\n",
    "filename = \"sample.txt\"\n",
    "\n",
    "try:\n",
    "    # Open the file in read mode\n",
    "    with open(filename, \"r\") as file:\n",
    "        # Read the content of the file\n",
    "        content = file.read()\n",
    "        \n",
    "        # Split the content into words\n",
    "        words = content.split()\n",
    "        \n",
    "        # Count the number of words\n",
    "        word_count = len(words)\n",
    "        \n",
    "    # Print the result\n",
    "    print(f\"The file '{filename}' contains {word_count} words.\")\n",
    "except FileNotFoundError:\n",
    "    print(f\"Error: The file '{filename}' does not exist.\")\n"
   ]
  },
  {
   "cell_type": "markdown",
   "metadata": {},
   "source": [
    " Error Handling\n",
    "1. Division with Error Handling: Write a program that takes two\n",
    "numbers as input and divides the first number by the second.\n",
    "○ Use try and except to handle the division by zero error."
   ]
  },
  {
   "cell_type": "code",
   "execution_count": 42,
   "metadata": {},
   "outputs": [
    {
     "name": "stdout",
     "output_type": "stream",
     "text": [
      "The result of 2.0 divided by 2.0 is 1.00\n"
     ]
    }
   ],
   "source": [
    "try:\n",
    "    # Input two numbers from the user\n",
    "    numerator = float(input(\"Enter the numerator: \"))\n",
    "    denominator = float(input(\"Enter the denominator: \"))\n",
    "    \n",
    "    # Attempt to perform the division\n",
    "    result = numerator / denominator\n",
    "    \n",
    "    # Print the result\n",
    "    print(f\"The result of {numerator} divided by {denominator} is {result:.2f}\")\n",
    "\n",
    "except ZeroDivisionError:\n",
    "    # Handle division by zero error\n",
    "    print(\"Error: Division by zero is not allowed.\")\n",
    "\n",
    "except ValueError:\n",
    "    # Handle invalid input (non-numeric values)\n",
    "    print(\"Error: Please enter valid numeric values.\")\n",
    "\n"
   ]
  },
  {
   "cell_type": "markdown",
   "metadata": {},
   "source": [
    "2. Integer Input Validation: Create a program that asks the user to\n",
    "input an integer.\n",
    "○ Use try, except, and else to handle invalid input.\n",
    "Example:\n",
    "○ Input: abc\n",
    "○ Output: \"Invalid input, please enter an integer.\""
   ]
  },
  {
   "cell_type": "code",
   "execution_count": 43,
   "metadata": {},
   "outputs": [
    {
     "name": "stdout",
     "output_type": "stream",
     "text": [
      "You entered the integer: 42\n"
     ]
    }
   ],
   "source": [
    "try:\n",
    "    # Prompt the user to input an integer\n",
    "    user_input = int(input(\"Enter an integer: \"))\n",
    "except ValueError:\n",
    "    # Handle invalid input (non-integer values)\n",
    "    print(\"Invalid input, please enter an integer.\")\n",
    "else:\n",
    "    # Executed if no exception occurs\n",
    "    print(f\"You entered the integer: {user_input}\")\n"
   ]
  },
  {
   "cell_type": "markdown",
   "metadata": {},
   "source": [
    "3. File Not Found Error Handling: Write a script that:\n",
    "\n",
    "○ Opens a file named unknown.txt.\n",
    "○ Handles the FileNotFoundError gracefully and prints an\n",
    "appropriate message."
   ]
  },
  {
   "cell_type": "code",
   "execution_count": 44,
   "metadata": {},
   "outputs": [
    {
     "name": "stdout",
     "output_type": "stream",
     "text": [
      "Error: The file 'unknown.txt' does not exist.\n"
     ]
    }
   ],
   "source": [
    "filename = \"unknown.txt\"\n",
    "\n",
    "try:\n",
    "    # Attempt to open the file\n",
    "    with open(filename, \"r\") as file:\n",
    "        # Read and print the file contents\n",
    "        content = file.read()\n",
    "        print(content)\n",
    "except FileNotFoundError:\n",
    "    # Handle the case where the file does not exist\n",
    "    print(f\"Error: The file '{filename}' does not exist.\")\n"
   ]
  }
 ],
 "metadata": {
  "kernelspec": {
   "display_name": "Python 3",
   "language": "python",
   "name": "python3"
  },
  "language_info": {
   "codemirror_mode": {
    "name": "ipython",
    "version": 3
   },
   "file_extension": ".py",
   "mimetype": "text/x-python",
   "name": "python",
   "nbconvert_exporter": "python",
   "pygments_lexer": "ipython3",
   "version": "3.13.0"
  }
 },
 "nbformat": 4,
 "nbformat_minor": 2
}
